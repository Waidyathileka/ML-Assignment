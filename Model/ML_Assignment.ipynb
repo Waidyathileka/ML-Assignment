{
  "nbformat": 4,
  "nbformat_minor": 0,
  "metadata": {
    "colab": {
      "provenance": []
    },
    "kernelspec": {
      "name": "python3",
      "display_name": "Python 3"
    },
    "language_info": {
      "name": "python"
    }
  },
  "cells": [
    {
      "cell_type": "code",
      "execution_count": null,
      "metadata": {
        "id": "fG19QlqY8Zri"
      },
      "outputs": [],
      "source": [
        "# @title\n",
        "!pip install ultralytics"
      ]
    },
    {
      "cell_type": "code",
      "source": [
        "from ultralytics import YOLO"
      ],
      "metadata": {
        "id": "9rEfhvCv8fGT"
      },
      "execution_count": null,
      "outputs": []
    },
    {
      "cell_type": "code",
      "source": [],
      "metadata": {
        "id": "WB66fGdq8yIY"
      },
      "execution_count": null,
      "outputs": []
    },
    {
      "cell_type": "code",
      "source": [
        "model = YOLO(\"yolov8n.pt\")"
      ],
      "metadata": {
        "id": "snXmFqV88mYf"
      },
      "execution_count": null,
      "outputs": []
    },
    {
      "cell_type": "markdown",
      "source": [
        "@misc{ test-veg_dataset, title = { test-veg Dataset }, type = { Open Source Dataset }, author = { testveg }, howpublished = { \\url{ https://universe.roboflow.com/testveg/test-veg } }, url = { https://universe.roboflow.com/testveg/test-veg }, journal = { Roboflow Universe }, publisher = { Roboflow }, year = { 2024 }, month = { jan }, note = { visited on 2024-04-25 }, }"
      ],
      "metadata": {
        "id": "1-aJ0b3w8syp"
      }
    },
    {
      "cell_type": "code",
      "source": [
        "# Dataset\n",
        "!pip install roboflow\n",
        "from roboflow import Roboflow\n",
        "rf = Roboflow(api_key=\"Tf5eudiEtMDK9hqbqkdQ\")\n",
        "project = rf.workspace(\"testveg\").project(\"test-veg\")\n",
        "version = project.version(1)\n",
        "dataset = version.download(\"yolov8\")"
      ],
      "metadata": {
        "id": "35YO0NGW8yqr"
      },
      "execution_count": null,
      "outputs": []
    },
    {
      "cell_type": "code",
      "source": [
        "# Train the model\n",
        "results = model.train(data= '/content/test-veg-1/data.yaml', epochs=15, batch=8, imgsz=640)"
      ],
      "metadata": {
        "id": "tSVPpwDQ84or"
      },
      "execution_count": null,
      "outputs": []
    },
    {
      "cell_type": "code",
      "source": [
        "# Load a model\n",
        "model = YOLO('/content/runs/detect/train/weights/best.pt')  # Pretrained model\n",
        "# Run batched inference on a list of images\n",
        "results = model(['B1.jpg'])  # return a list of Results objects\n",
        "# Process results list\n",
        "for result in results:\n",
        "    boxes = result.boxes  # Boxes object for bounding box outputs\n",
        "    result.show()  # display to screen\n",
        "    result.save(filename='Results1.jpg')  # save to disk"
      ],
      "metadata": {
        "id": "90GrWhND9WO-"
      },
      "execution_count": null,
      "outputs": []
    },
    {
      "cell_type": "code",
      "source": [
        "# Load a model\n",
        "model = YOLO('/content/runs/detect/train/weights/best.pt')  # Pretrained model\n",
        "\n",
        "# Run batched inference on a list of images\n",
        "results = model(['C1.jpg'])  # return a list of Results objects\n",
        "\n",
        "# Process results list\n",
        "for result in results:\n",
        "    boxes = result.boxes  # Boxes object for bounding box outputs\n",
        "    result.show()  # display to screen\n",
        "    result.save(filename='Results2.jpg')  # save to disk"
      ],
      "metadata": {
        "id": "B_K6WLYh9csC"
      },
      "execution_count": null,
      "outputs": []
    },
    {
      "cell_type": "code",
      "source": [
        " # Load a model\n",
        "model = YOLO('/content/runs/detect/train/weights/best.pt')  # Pretrained model\n",
        "\n",
        "# Run batched inference on a list of images\n",
        "results = model(['CA1.jpg'])  # return a list of Results objects\n",
        "\n",
        "# Process results list\n",
        "for result in results:\n",
        "    boxes = result.boxes  # Boxes object for bounding box outputs\n",
        "    result.show()  # display to screen\n",
        "    result.save(filename='Results3.jpg')  # save to disk"
      ],
      "metadata": {
        "id": "52EYWK2v9g3h"
      },
      "execution_count": null,
      "outputs": []
    },
    {
      "cell_type": "code",
      "source": [
        "# Load a model\n",
        "model = YOLO('/content/runs/detect/train/weights/best.pt')  # Pretrained model\n",
        "\n",
        "# Run batched inference on a list of images\n",
        "results = model(['CU1.jpg'])  # return a list of Results objects\n",
        "\n",
        "# Process results list\n",
        "for result in results:\n",
        "    boxes = result.boxes  # Boxes object for bounding box outputs\n",
        "    result.show()  # display to screen\n",
        "    result.save(filename='Results4.jpg')  # save to disk"
      ],
      "metadata": {
        "id": "xVjYQTxk9jxw"
      },
      "execution_count": null,
      "outputs": []
    },
    {
      "cell_type": "code",
      "source": [
        "# Load a model\n",
        "model = YOLO('/content/runs/detect/train/weights/best.pt')  # Pretrained model\n",
        "\n",
        "# Run batched inference on a list of images\n",
        "results = model(['ON1.jpg'])  # return a list of Results objects\n",
        "\n",
        "# Process results list\n",
        "for result in results:\n",
        "    boxes = result.boxes  # Boxes object for bounding box outputs\n",
        "    result.show()  # display to screen\n",
        "    result.save(filename='Results5.jpg')  # save to disk"
      ],
      "metadata": {
        "id": "nIAqYsR_9m4Z"
      },
      "execution_count": null,
      "outputs": []
    },
    {
      "cell_type": "code",
      "source": [
        " # Load a model\n",
        "#model = YOLO('yolov8n.pt')  # load an official model\n",
        "model = YOLO('/content/runs/detect/train/weights/best.pt')  # load a custom model\n",
        "\n",
        "# Validate the model\n",
        "metrics = model.val()  # no arguments needed, dataset and settings remembered\n",
        "metrics.box.map    # map50-95\n",
        "metrics.box.map50  # map50\n",
        "metrics.box.map75  # map75\n",
        "metrics.box.maps   # a list contains map50-95 of each category"
      ],
      "metadata": {
        "id": "_Kxt1Gkx9qN7"
      },
      "execution_count": null,
      "outputs": []
    }
  ]
}